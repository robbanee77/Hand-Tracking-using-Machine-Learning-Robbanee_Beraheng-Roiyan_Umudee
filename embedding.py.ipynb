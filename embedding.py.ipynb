{
 "cells": [
  {
   "cell_type": "code",
   "execution_count": 1,
   "id": "bf8aa1e7",
   "metadata": {},
   "outputs": [
    {
     "ename": "ModuleNotFoundError",
     "evalue": "No module named 'cv2'",
     "output_type": "error",
     "traceback": [
      "\u001b[1;31m---------------------------------------------------------------------------\u001b[0m",
      "\u001b[1;31mModuleNotFoundError\u001b[0m                       Traceback (most recent call last)",
      "Input \u001b[1;32mIn [1]\u001b[0m, in \u001b[0;36m<cell line: 2>\u001b[1;34m()\u001b[0m\n\u001b[0;32m      1\u001b[0m \u001b[38;5;28;01mimport\u001b[39;00m \u001b[38;5;21;01msys\u001b[39;00m\n\u001b[1;32m----> 2\u001b[0m \u001b[38;5;28;01mimport\u001b[39;00m \u001b[38;5;21;01mcv2\u001b[39;00m \n\u001b[0;32m      3\u001b[0m \u001b[38;5;28;01mimport\u001b[39;00m \u001b[38;5;21;01mface_recognition\u001b[39;00m\n\u001b[0;32m      4\u001b[0m \u001b[38;5;28;01mimport\u001b[39;00m \u001b[38;5;21;01mpickle\u001b[39;00m\n",
      "\u001b[1;31mModuleNotFoundError\u001b[0m: No module named 'cv2'"
     ]
    }
   ],
   "source": [
    "import sys\n",
    "import cv2 \n",
    "import face_recognition\n",
    "import pickle"
   ]
  },
  {
   "cell_type": "code",
   "execution_count": 2,
   "id": "74f2a4ee",
   "metadata": {},
   "outputs": [
    {
     "name": "stdout",
     "output_type": "stream",
     "text": [
      "enter namerobbanee\n",
      "enter id0077\n"
     ]
    }
   ],
   "source": [
    "name=input(\"enter name\")\n",
    "ref_id=input(\"enter id\")"
   ]
  },
  {
   "cell_type": "code",
   "execution_count": 3,
   "id": "602f6ab1",
   "metadata": {},
   "outputs": [
    {
     "ename": "NameError",
     "evalue": "name 'pickle' is not defined",
     "output_type": "error",
     "traceback": [
      "\u001b[1;31m---------------------------------------------------------------------------\u001b[0m",
      "\u001b[1;31mNameError\u001b[0m                                 Traceback (most recent call last)",
      "Input \u001b[1;32mIn [3]\u001b[0m, in \u001b[0;36m<cell line: 9>\u001b[1;34m()\u001b[0m\n\u001b[0;32m      7\u001b[0m ref_dictt[ref_id]\u001b[38;5;241m=\u001b[39mname\n\u001b[0;32m      8\u001b[0m f\u001b[38;5;241m=\u001b[39m\u001b[38;5;28mopen\u001b[39m(\u001b[38;5;124m\"\u001b[39m\u001b[38;5;124mref_name.pkl\u001b[39m\u001b[38;5;124m\"\u001b[39m,\u001b[38;5;124m\"\u001b[39m\u001b[38;5;124mwb\u001b[39m\u001b[38;5;124m\"\u001b[39m)\n\u001b[1;32m----> 9\u001b[0m \u001b[43mpickle\u001b[49m\u001b[38;5;241m.\u001b[39mdump(ref_dictt,f)\n\u001b[0;32m     10\u001b[0m f\u001b[38;5;241m.\u001b[39mclose()\n\u001b[0;32m     11\u001b[0m \u001b[38;5;28;01mtry\u001b[39;00m:\n",
      "\u001b[1;31mNameError\u001b[0m: name 'pickle' is not defined"
     ]
    }
   ],
   "source": [
    "try:\n",
    "    f=open(\"ref_name.pkl\",\"rb\")\n",
    "    ref_dictt=pickle.load(f)\n",
    "    f.close()\n",
    "except:\n",
    "    ref_dictt={}\n",
    "ref_dictt[ref_id]=name\n",
    "f=open(\"ref_name.pkl\",\"wb\")\n",
    "pickle.dump(ref_dictt,f)\n",
    "f.close()\n",
    "try:\n",
    "    f=open(\"ref_embed.pkl\",\"rb\")\n",
    "    embed_dictt=pickle.load(f)\n",
    "    f.close()\n",
    "except:\n",
    "    embed_dictt={}"
   ]
  },
  {
   "cell_type": "code",
   "execution_count": null,
   "id": "b0fccec4",
   "metadata": {},
   "outputs": [],
   "source": [
    "for i in range(5):\n",
    "    key = cv2. waitKey(1)\n",
    "    webcam = cv2.VideoCapture(0)\n",
    "    while True:\n",
    "       \n",
    "        check, frame = webcam.read()\n",
    "        cv2.imshow(\"Capturing\", frame)\n",
    "        small_frame = cv2.resize(frame, (0, 0), fx=0.25, fy=0.25)\n",
    "        rgb_small_frame = small_frame[:, :, ::-1]\n",
    "  \n",
    "        key = cv2.waitKey(1)\n",
    "        if key == ord('s') : \n",
    "            face_locations = face_recognition.face_locations(rgb_small_frame)\n",
    "            if face_locations != []:\n",
    "                face_encoding = face_recognition.face_encodings(frame)[0]\n",
    "                if ref_id in embed_dictt:\n",
    "                    embed_dictt[ref_id]+=[face_encoding]\n",
    "                else:\n",
    "                    embed_dictt[ref_id]=[face_encoding]\n",
    "                webcam.release()\n",
    "                cv2.waitKey(1)\n",
    "                cv2.destroyAllWindows()     \n",
    "                break\n",
    "        elif key == ord('q'):\n",
    "            print(\"Turning off camera.\")\n",
    "            webcam.release()\n",
    "            print(\"Camera off.\")\n",
    "            print(\"Program ended.\")\n",
    "            cv2.destroyAllWindows()\n",
    "            break"
   ]
  },
  {
   "cell_type": "code",
   "execution_count": null,
   "id": "9f6ea4e3",
   "metadata": {},
   "outputs": [],
   "source": [
    "f=open(\"ref_embed.pkl\",\"wb\")\n",
    "pickle.dump(embed_dictt,f)\n",
    "f.close()"
   ]
  },
  {
   "cell_type": "code",
   "execution_count": null,
   "id": "9d258eac",
   "metadata": {},
   "outputs": [],
   "source": []
  }
 ],
 "metadata": {
  "kernelspec": {
   "display_name": "Python 3 (ipykernel)",
   "language": "python",
   "name": "python3"
  },
  "language_info": {
   "codemirror_mode": {
    "name": "ipython",
    "version": 3
   },
   "file_extension": ".py",
   "mimetype": "text/x-python",
   "name": "python",
   "nbconvert_exporter": "python",
   "pygments_lexer": "ipython3",
   "version": "3.9.4"
  }
 },
 "nbformat": 4,
 "nbformat_minor": 5
}
