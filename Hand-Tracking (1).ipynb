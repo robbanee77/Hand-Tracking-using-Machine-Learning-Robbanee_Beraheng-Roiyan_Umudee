{
 "cells": [
  {
   "cell_type": "code",
   "execution_count": 4,
   "id": "9011de20",
   "metadata": {},
   "outputs": [
    {
     "name": "stdout",
     "output_type": "stream",
     "text": [
      "Requirement already satisfied: opencv-python in c:\\users\\robbanee\\anaconda3\\envs\\python39\\lib\\site-packages (4.5.5.64)\n",
      "Requirement already satisfied: numpy>=1.17.3 in c:\\users\\robbanee\\anaconda3\\envs\\python39\\lib\\site-packages (from opencv-python) (1.22.3)\n"
     ]
    }
   ],
   "source": [
    "!pip install opencv-python"
   ]
  },
  {
   "cell_type": "code",
   "execution_count": 5,
   "id": "b69aa178",
   "metadata": {},
   "outputs": [
    {
     "name": "stdout",
     "output_type": "stream",
     "text": [
      "Requirement already satisfied: mediapipe in c:\\users\\robbanee\\anaconda3\\envs\\python39\\lib\\site-packages (0.8.9.1)\n",
      "Requirement already satisfied: protobuf>=3.11.4 in c:\\users\\robbanee\\anaconda3\\envs\\python39\\lib\\site-packages (from mediapipe) (3.20.0)\n",
      "Requirement already satisfied: numpy in c:\\users\\robbanee\\anaconda3\\envs\\python39\\lib\\site-packages (from mediapipe) (1.22.3)\n",
      "Requirement already satisfied: matplotlib in c:\\users\\robbanee\\anaconda3\\envs\\python39\\lib\\site-packages (from mediapipe) (3.5.1)\n",
      "Requirement already satisfied: opencv-contrib-python in c:\\users\\robbanee\\anaconda3\\envs\\python39\\lib\\site-packages (from mediapipe) (4.5.5.64)\n",
      "Requirement already satisfied: attrs>=19.1.0 in c:\\users\\robbanee\\anaconda3\\envs\\python39\\lib\\site-packages (from mediapipe) (21.4.0)\n",
      "Requirement already satisfied: absl-py in c:\\users\\robbanee\\anaconda3\\envs\\python39\\lib\\site-packages (from mediapipe) (1.0.0)\n",
      "Requirement already satisfied: six in c:\\users\\robbanee\\anaconda3\\envs\\python39\\lib\\site-packages (from absl-py->mediapipe) (1.16.0)\n",
      "Requirement already satisfied: packaging>=20.0 in c:\\users\\robbanee\\anaconda3\\envs\\python39\\lib\\site-packages (from matplotlib->mediapipe) (21.3)\n",
      "Requirement already satisfied: kiwisolver>=1.0.1 in c:\\users\\robbanee\\anaconda3\\envs\\python39\\lib\\site-packages (from matplotlib->mediapipe) (1.4.2)\n",
      "Requirement already satisfied: pillow>=6.2.0 in c:\\users\\robbanee\\anaconda3\\envs\\python39\\lib\\site-packages (from matplotlib->mediapipe) (9.1.0)\n",
      "Requirement already satisfied: cycler>=0.10 in c:\\users\\robbanee\\anaconda3\\envs\\python39\\lib\\site-packages (from matplotlib->mediapipe) (0.11.0)\n",
      "Requirement already satisfied: pyparsing>=2.2.1 in c:\\users\\robbanee\\anaconda3\\envs\\python39\\lib\\site-packages (from matplotlib->mediapipe) (3.0.4)\n",
      "Requirement already satisfied: python-dateutil>=2.7 in c:\\users\\robbanee\\anaconda3\\envs\\python39\\lib\\site-packages (from matplotlib->mediapipe) (2.8.2)\n",
      "Requirement already satisfied: fonttools>=4.22.0 in c:\\users\\robbanee\\anaconda3\\envs\\python39\\lib\\site-packages (from matplotlib->mediapipe) (4.32.0)\n"
     ]
    }
   ],
   "source": [
    "!pip install mediapipe"
   ]
  },
  {
   "cell_type": "code",
   "execution_count": 6,
   "id": "b22bd8e0",
   "metadata": {},
   "outputs": [],
   "source": [
    "import cv2\n",
    "import mediapipe as mp"
   ]
  },
  {
   "cell_type": "code",
   "execution_count": 7,
   "id": "1a0cbe55",
   "metadata": {},
   "outputs": [
    {
     "data": {
      "text/plain": [
       "<VideoCapture 000001FAFF864D50>"
      ]
     },
     "execution_count": 7,
     "metadata": {},
     "output_type": "execute_result"
    }
   ],
   "source": [
    "webcam = cv2.VideoCapture(0)\n",
    "webcam"
   ]
  },
  {
   "cell_type": "code",
   "execution_count": 8,
   "id": "ddb7f942",
   "metadata": {},
   "outputs": [
    {
     "data": {
      "text/plain": [
       "(True,\n",
       " array([[[ 93,  85,  80],\n",
       "         [ 90,  82,  76],\n",
       "         [ 86,  79,  71],\n",
       "         ...,\n",
       "         [157, 104,  37],\n",
       "         [158, 105,  38],\n",
       "         [155, 102,  35]],\n",
       " \n",
       "        [[ 94,  85,  79],\n",
       "         [ 91,  82,  75],\n",
       "         [ 88,  80,  71],\n",
       "         ...,\n",
       "         [157, 104,  37],\n",
       "         [157, 104,  37],\n",
       "         [154, 101,  34]],\n",
       " \n",
       "        [[ 96,  85,  78],\n",
       "         [ 93,  82,  74],\n",
       "         [ 90,  80,  70],\n",
       "         ...,\n",
       "         [157, 104,  38],\n",
       "         [155, 103,  37],\n",
       "         [151,  99,  33]],\n",
       " \n",
       "        ...,\n",
       " \n",
       "        [[ 31,  25,  20],\n",
       "         [ 30,  24,  19],\n",
       "         [ 30,  24,  19],\n",
       "         ...,\n",
       "         [114, 103,  93],\n",
       "         [116, 104,  94],\n",
       "         [117, 104,  94]],\n",
       " \n",
       "        [[ 31,  25,  20],\n",
       "         [ 30,  24,  19],\n",
       "         [ 30,  24,  19],\n",
       "         ...,\n",
       "         [113, 102,  92],\n",
       "         [116, 103,  93],\n",
       "         [117, 102,  93]],\n",
       " \n",
       "        [[ 31,  25,  20],\n",
       "         [ 30,  24,  19],\n",
       "         [ 29,  23,  18],\n",
       "         ...,\n",
       "         [112, 101,  91],\n",
       "         [114, 101,  91],\n",
       "         [115, 100,  91]]], dtype=uint8))"
      ]
     },
     "execution_count": 8,
     "metadata": {},
     "output_type": "execute_result"
    }
   ],
   "source": [
    "image = webcam.read()\n",
    "image"
   ]
  },
  {
   "cell_type": "code",
   "execution_count": null,
   "id": "aaa7980e",
   "metadata": {},
   "outputs": [],
   "source": [
    "while True:\n",
    "    success, image = webcam.read()    \n",
    "    cv2.imshow(\"Image\",image)\n",
    "    cv2.waitKey(1)"
   ]
  },
  {
   "cell_type": "code",
   "execution_count": null,
   "id": "328bce9f",
   "metadata": {},
   "outputs": [],
   "source": [
    "mp_hands = mp.solutions.hands"
   ]
  },
  {
   "cell_type": "code",
   "execution_count": null,
   "id": "a879f81e",
   "metadata": {},
   "outputs": [],
   "source": [
    "hands = mp_hands.Hands()"
   ]
  },
  {
   "cell_type": "code",
   "execution_count": null,
   "id": "96663978",
   "metadata": {},
   "outputs": [],
   "source": [
    "image_rgb = cv2.cvtColor(image,cv2.COLOR_BGR2RGB)"
   ]
  },
  {
   "cell_type": "code",
   "execution_count": null,
   "id": "e9cf899f",
   "metadata": {},
   "outputs": [],
   "source": [
    "results = hands.process(image_rgb)"
   ]
  },
  {
   "cell_type": "code",
   "execution_count": null,
   "id": "fb85f05d",
   "metadata": {},
   "outputs": [],
   "source": [
    "results.multi_hand_landmarks"
   ]
  },
  {
   "cell_type": "code",
   "execution_count": null,
   "id": "409679e3",
   "metadata": {},
   "outputs": [],
   "source": [
    "while True:\n",
    "    success, image = webcam.read() \n",
    "    image_rgb = cv2.cvtColor(image,cv2.COLOR_BGR2RGB)\n",
    "    results = hands.process(image_rgb)\n",
    "    \n",
    "    print(results.multi_hand_landmarks)\n",
    "    \n",
    "    \n",
    "    cv2.imshow(\"Image\",image)\n",
    "    cv2.waitKey(1)"
   ]
  },
  {
   "cell_type": "code",
   "execution_count": null,
   "id": "35ed8a13",
   "metadata": {},
   "outputs": [],
   "source": [
    "mp_draw = mp.solutions.drawing_utils"
   ]
  },
  {
   "cell_type": "code",
   "execution_count": null,
   "id": "7481b89f",
   "metadata": {},
   "outputs": [],
   "source": [
    "while True:\n",
    "    success, image = webcam.read() \n",
    "    image_rgb = cv2.cvtColor(image,cv2.COLOR_BGR2RGB)\n",
    "    results = hands.process(image_rgb)\n",
    "    \n",
    "    print(results.multi_hand_landmarks)\n",
    "    \n",
    "    if results.multi_hand_landmarks:\n",
    "        for landmark in results.multi_hand_landmarks:\n",
    "            mp_draw.draw_landmarks(image, landmark, mp_hands.HAND_CONNECTIONS)\n",
    "    \n",
    "    \n",
    "    cv2.imshow(\"Image\",image)\n",
    "    cv2.waitKey(1)"
   ]
  }
 ],
 "metadata": {
  "kernelspec": {
   "display_name": "Python 3 (ipykernel)",
   "language": "python",
   "name": "python3"
  },
  "language_info": {
   "codemirror_mode": {
    "name": "ipython",
    "version": 3
   },
   "file_extension": ".py",
   "mimetype": "text/x-python",
   "name": "python",
   "nbconvert_exporter": "python",
   "pygments_lexer": "ipython3",
   "version": "3.9.4"
  }
 },
 "nbformat": 4,
 "nbformat_minor": 5
}
