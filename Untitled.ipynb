{
 "cells": [
  {
   "cell_type": "code",
   "execution_count": 1,
   "id": "9011de20",
   "metadata": {},
   "outputs": [
    {
     "name": "stdout",
     "output_type": "stream",
     "text": [
      "Requirement already satisfied: opencv-python in c:\\users\\robbanee\\anaconda3\\envs\\python39\\lib\\site-packages (4.5.5.64)\n",
      "Requirement already satisfied: numpy>=1.14.5 in c:\\users\\robbanee\\anaconda3\\envs\\python39\\lib\\site-packages (from opencv-python) (1.22.3)\n"
     ]
    }
   ],
   "source": [
    "!pip install opencv-python"
   ]
  },
  {
   "cell_type": "code",
   "execution_count": 2,
   "id": "b69aa178",
   "metadata": {},
   "outputs": [
    {
     "name": "stdout",
     "output_type": "stream",
     "text": [
      "Requirement already satisfied: mediapipe in c:\\users\\robbanee\\anaconda3\\envs\\python39\\lib\\site-packages (0.8.9.1)\n",
      "Requirement already satisfied: attrs>=19.1.0 in c:\\users\\robbanee\\anaconda3\\envs\\python39\\lib\\site-packages (from mediapipe) (21.4.0)\n",
      "Requirement already satisfied: matplotlib in c:\\users\\robbanee\\anaconda3\\envs\\python39\\lib\\site-packages (from mediapipe) (3.5.1)\n",
      "Requirement already satisfied: protobuf>=3.11.4 in c:\\users\\robbanee\\anaconda3\\envs\\python39\\lib\\site-packages (from mediapipe) (3.20.0)\n",
      "Requirement already satisfied: absl-py in c:\\users\\robbanee\\anaconda3\\envs\\python39\\lib\\site-packages (from mediapipe) (1.0.0)\n",
      "Requirement already satisfied: numpy in c:\\users\\robbanee\\anaconda3\\envs\\python39\\lib\\site-packages (from mediapipe) (1.22.3)\n",
      "Requirement already satisfied: opencv-contrib-python in c:\\users\\robbanee\\anaconda3\\envs\\python39\\lib\\site-packages (from mediapipe) (4.5.5.64)\n",
      "Requirement already satisfied: six in c:\\users\\robbanee\\anaconda3\\envs\\python39\\lib\\site-packages (from absl-py->mediapipe) (1.16.0)\n",
      "Requirement already satisfied: python-dateutil>=2.7 in c:\\users\\robbanee\\anaconda3\\envs\\python39\\lib\\site-packages (from matplotlib->mediapipe) (2.8.2)\n",
      "Requirement already satisfied: packaging>=20.0 in c:\\users\\robbanee\\anaconda3\\envs\\python39\\lib\\site-packages (from matplotlib->mediapipe) (21.3)\n",
      "Requirement already satisfied: cycler>=0.10 in c:\\users\\robbanee\\anaconda3\\envs\\python39\\lib\\site-packages (from matplotlib->mediapipe) (0.11.0)\n",
      "Requirement already satisfied: fonttools>=4.22.0 in c:\\users\\robbanee\\anaconda3\\envs\\python39\\lib\\site-packages (from matplotlib->mediapipe) (4.32.0)\n",
      "Requirement already satisfied: pillow>=6.2.0 in c:\\users\\robbanee\\anaconda3\\envs\\python39\\lib\\site-packages (from matplotlib->mediapipe) (9.1.0)\n",
      "Requirement already satisfied: kiwisolver>=1.0.1 in c:\\users\\robbanee\\anaconda3\\envs\\python39\\lib\\site-packages (from matplotlib->mediapipe) (1.4.2)\n",
      "Requirement already satisfied: pyparsing>=2.2.1 in c:\\users\\robbanee\\anaconda3\\envs\\python39\\lib\\site-packages (from matplotlib->mediapipe) (3.0.4)\n"
     ]
    }
   ],
   "source": [
    "!pip install mediapipe"
   ]
  },
  {
   "cell_type": "code",
   "execution_count": 3,
   "id": "b22bd8e0",
   "metadata": {},
   "outputs": [],
   "source": [
    "import cv2\n",
    "import mediapipe as mp"
   ]
  },
  {
   "cell_type": "code",
   "execution_count": 4,
   "id": "1a0cbe55",
   "metadata": {},
   "outputs": [
    {
     "data": {
      "text/plain": [
       "<VideoCapture 000001D055B46110>"
      ]
     },
     "execution_count": 4,
     "metadata": {},
     "output_type": "execute_result"
    }
   ],
   "source": [
    "webcam = cv2.VideoCapture(0)\n",
    "webcam"
   ]
  },
  {
   "cell_type": "code",
   "execution_count": 5,
   "id": "ddb7f942",
   "metadata": {},
   "outputs": [
    {
     "data": {
      "text/plain": [
       "(True,\n",
       " array([[[ 70,  61,  50],\n",
       "         [ 61,  52,  41],\n",
       "         [ 54,  45,  34],\n",
       "         ...,\n",
       "         [143,  87,  42],\n",
       "         [138,  82,  37],\n",
       "         [138,  81,  36]],\n",
       " \n",
       "        [[ 70,  62,  52],\n",
       "         [ 63,  55,  45],\n",
       "         [ 58,  50,  40],\n",
       "         ...,\n",
       "         [139,  84,  39],\n",
       "         [137,  81,  36],\n",
       "         [136,  80,  35]],\n",
       " \n",
       "        [[ 65,  59,  50],\n",
       "         [ 61,  55,  46],\n",
       "         [ 59,  53,  44],\n",
       "         ...,\n",
       "         [140,  86,  42],\n",
       "         [140,  85,  41],\n",
       "         [141,  85,  41]],\n",
       " \n",
       "        ...,\n",
       " \n",
       "        [[ 30,  26,  21],\n",
       "         [ 30,  26,  21],\n",
       "         [ 30,  26,  21],\n",
       "         ...,\n",
       "         [120,  77,  35],\n",
       "         [122,  79,  37],\n",
       "         [113,  69,  28]],\n",
       " \n",
       "        [[ 30,  25,  21],\n",
       "         [ 31,  26,  22],\n",
       "         [ 33,  28,  24],\n",
       "         ...,\n",
       "         [120,  78,  35],\n",
       "         [123,  81,  39],\n",
       "         [113,  71,  29]],\n",
       " \n",
       "        [[ 36,  29,  26],\n",
       "         [ 38,  31,  28],\n",
       "         [ 41,  34,  31],\n",
       "         ...,\n",
       "         [118,  76,  33],\n",
       "         [120,  78,  36],\n",
       "         [109,  67,  25]]], dtype=uint8))"
      ]
     },
     "execution_count": 5,
     "metadata": {},
     "output_type": "execute_result"
    }
   ],
   "source": [
    "image = webcam.read()\n",
    "image"
   ]
  },
  {
   "cell_type": "code",
   "execution_count": null,
   "id": "aaa7980e",
   "metadata": {},
   "outputs": [],
   "source": [
    "while True:\n",
    "    success, image = webcam.read()    \n",
    "    cv2.imshow(\"Image\",image)\n",
    "    cv2.waitKey(1)"
   ]
  },
  {
   "cell_type": "code",
   "execution_count": null,
   "id": "328bce9f",
   "metadata": {},
   "outputs": [],
   "source": [
    "mp_hands = mp.solutions.hands"
   ]
  },
  {
   "cell_type": "code",
   "execution_count": null,
   "id": "a879f81e",
   "metadata": {},
   "outputs": [],
   "source": [
    "hands = mp_hands.Hands()"
   ]
  },
  {
   "cell_type": "code",
   "execution_count": null,
   "id": "96663978",
   "metadata": {},
   "outputs": [],
   "source": [
    "image_rgb = cv2.cvtColor(image,cv2.COLOR_BGR2RGB)"
   ]
  },
  {
   "cell_type": "code",
   "execution_count": null,
   "id": "e9cf899f",
   "metadata": {},
   "outputs": [],
   "source": [
    "results = hands.process(image_rgb)"
   ]
  },
  {
   "cell_type": "code",
   "execution_count": null,
   "id": "fb85f05d",
   "metadata": {},
   "outputs": [],
   "source": [
    "results.multi_hand_landmarks"
   ]
  },
  {
   "cell_type": "code",
   "execution_count": null,
   "id": "409679e3",
   "metadata": {},
   "outputs": [],
   "source": [
    "while True:\n",
    "    success, image = webcam.read() \n",
    "    image_rgb = cv2.cvtColor(image,cv2.COLOR_BGR2RGB)\n",
    "    results = hands.process(image_rgb)\n",
    "    \n",
    "    print(results.multi_hand_landmarks)\n",
    "    \n",
    "    \n",
    "    cv2.imshow(\"Image\",image)\n",
    "    cv2.waitKey(1)"
   ]
  },
  {
   "cell_type": "code",
   "execution_count": null,
   "id": "35ed8a13",
   "metadata": {},
   "outputs": [],
   "source": [
    "mp_draw = mp.solutions.drawing_utils"
   ]
  },
  {
   "cell_type": "code",
   "execution_count": null,
   "id": "7481b89f",
   "metadata": {},
   "outputs": [],
   "source": [
    "while True:\n",
    "    success, image = webcam.read() \n",
    "    image_rgb = cv2.cvtColor(image,cv2.COLOR_BGR2RGB)\n",
    "    results = hands.process(image_rgb)\n",
    "    \n",
    "    print(results.multi_hand_landmarks)\n",
    "    \n",
    "    if results.multi_hand_landmarks:\n",
    "        for landmark in results.multi_hand_landmarks:\n",
    "            mp_draw.draw_landmarks(image, landmark, mp_hands.HAND_CONNECTIONS)\n",
    "    \n",
    "    \n",
    "    cv2.imshow(\"Image\",image)\n",
    "    cv2.waitKey(1)"
   ]
  },
  {
   "cell_type": "code",
   "execution_count": null,
   "id": "8826d2af",
   "metadata": {},
   "outputs": [],
   "source": []
  },
  {
   "cell_type": "code",
   "execution_count": null,
   "id": "21286874",
   "metadata": {},
   "outputs": [],
   "source": []
  }
 ],
 "metadata": {
  "kernelspec": {
   "display_name": "Python 3 (ipykernel)",
   "language": "python",
   "name": "python3"
  },
  "language_info": {
   "codemirror_mode": {
    "name": "ipython",
    "version": 3
   },
   "file_extension": ".py",
   "mimetype": "text/x-python",
   "name": "python",
   "nbconvert_exporter": "python",
   "pygments_lexer": "ipython3",
   "version": "3.9.4"
  }
 },
 "nbformat": 4,
 "nbformat_minor": 5
}
